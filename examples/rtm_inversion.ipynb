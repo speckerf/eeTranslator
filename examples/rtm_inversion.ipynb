{
 "cells": [
  {
   "cell_type": "markdown",
   "metadata": {},
   "source": [
    "# Example using eeMLPRegressor / eeStandardScaler\n",
    "In this short example, we show how a locally trained MLPRegressor from the library scikit-learn can be used for server-side predictions using Google Earth Engine (GEE). Note, that the library is work in progress and has not been sufficiently tested so far. "
   ]
  },
  {
   "cell_type": "code",
   "execution_count": 1,
   "metadata": {},
   "outputs": [],
   "source": [
    "import os\n",
    "import ee\n",
    "import pandas as pd\n",
    "from sklearn.neural_network import MLPRegressor\n",
    "from sklearn.preprocessing import StandardScaler\n",
    "from sklearn.model_selection import train_test_split\n",
    "from eetranslator.eeMLPRegressor import eeMLPRegressor\n",
    "from eetranslator.eeStandardScaler import eeStandardScaler"
   ]
  },
  {
   "cell_type": "code",
   "execution_count": 2,
   "metadata": {},
   "outputs": [],
   "source": [
    "ee.Initialize()"
   ]
  },
  {
   "cell_type": "code",
   "execution_count": 3,
   "metadata": {},
   "outputs": [],
   "source": [
    "# Load training data: consists of sentinel-2 bands and vegetation trait variables \n",
    "# training data created using prosail rtm model https://jbferet.gitlab.io/prosail/index.html \n",
    "path = os.path.join('..', 'data', 'rtm_s2.csv')\n",
    "\n",
    "dat = pd.read_csv(path)\n",
    "bands = ['B2', 'B3', 'B4', 'B5', 'B6', 'B7', 'B8', 'B8A', 'B11', 'B12']\n",
    "target = 'CHL'\n",
    "\n",
    "X, y = dat[bands], dat[target]\n",
    "\n",
    "X_train, X_test, y_train, y_test = train_test_split(X, y, test_size=0.2)"
   ]
  },
  {
   "cell_type": "code",
   "execution_count": 4,
   "metadata": {},
   "outputs": [],
   "source": [
    "# a common practice is to standardize the data before training\n",
    "X_scaler = StandardScaler()\n",
    "y_scaler = StandardScaler()\n",
    "\n",
    "X_scaler.fit(X_train)\n",
    "y_scaler.fit(y_train.values.reshape(-1, 1))\n",
    "\n",
    "X_train_scaled, X_test_scaled = X_scaler.transform(X_train), X_scaler.transform(X_test)\n",
    "y_train_scaled, y_test_scaled = y_scaler.transform(y_train.values.reshape(-1, 1)), y_scaler.transform(y_test.values.reshape(-1, 1))"
   ]
  },
  {
   "cell_type": "code",
   "execution_count": 5,
   "metadata": {},
   "outputs": [
    {
     "name": "stderr",
     "output_type": "stream",
     "text": [
      "/Users/felix/Projects/OEMC/eeTranslator/.venv/lib/python3.10/site-packages/sklearn/neural_network/_multilayer_perceptron.py:1625: DataConversionWarning: A column-vector y was passed when a 1d array was expected. Please change the shape of y to (n_samples, ), for example using ravel().\n",
      "  y = column_or_1d(y, warn=True)\n"
     ]
    },
    {
     "name": "stdout",
     "output_type": "stream",
     "text": [
      "Training score: 0.9340781501741026\n",
      "Test score: 0.91306979313768\n"
     ]
    }
   ],
   "source": [
    "# train a neural network model\n",
    "model = MLPRegressor(hidden_layer_sizes=(50, 50), max_iter=1000, random_state=42)\n",
    "model.fit(X_train_scaled, y_train_scaled)\n",
    "\n",
    "# evaluate the model\n",
    "print('Training score: {}'.format(model.score(X_train_scaled, y_train_scaled)))\n",
    "print('Test score: {}'.format(model.score(X_test_scaled, y_test_scaled)))"
   ]
  },
  {
   "cell_type": "code",
   "execution_count": 6,
   "metadata": {},
   "outputs": [],
   "source": [
    "# load an example S2 image from Google Earth Engine\n",
    "\n",
    "image = ee.Image('COPERNICUS/S2_SR_HARMONIZED/20220718T102559_20220718T103413_T32TMT').select(bands).divide(10000)"
   ]
  },
  {
   "cell_type": "code",
   "execution_count": 7,
   "metadata": {},
   "outputs": [],
   "source": [
    "ee_model = eeMLPRegressor(model, prediction_name='CHL')\n",
    "ee_X_scaler = eeStandardScaler(X_scaler, feature_names=bands)\n",
    "ee_y_scaler = eeStandardScaler(y_scaler, feature_names=[target]) # feature_names must be a list"
   ]
  },
  {
   "cell_type": "code",
   "execution_count": 8,
   "metadata": {},
   "outputs": [],
   "source": [
    "image_scaled = ee_X_scaler.transform_image(image)\n",
    "predictions_scaled = ee_model.classify(image_scaled)\n",
    "predictions = ee_y_scaler.inverse_transform_column(predictions_scaled, column='CHL')"
   ]
  },
  {
   "cell_type": "code",
   "execution_count": 9,
   "metadata": {},
   "outputs": [
    {
     "data": {
      "text/plain": [
       "{'type': 'Image',\n",
       " 'bands': [{'id': 'CHL',\n",
       "   'data_type': {'type': 'PixelType', 'precision': 'double'},\n",
       "   'dimensions': [10980, 10980],\n",
       "   'crs': 'EPSG:32632',\n",
       "   'crs_transform': [10, 0, 399960, 0, -10, 5300040]}]}"
      ]
     },
     "execution_count": 9,
     "metadata": {},
     "output_type": "execute_result"
    }
   ],
   "source": [
    "predictions.getInfo()"
   ]
  },
  {
   "cell_type": "code",
   "execution_count": 11,
   "metadata": {},
   "outputs": [
    {
     "data": {
      "text/html": [
       "\n",
       "            <style>\n",
       "                .geemap-dark {\n",
       "                    --jp-widgets-color: white;\n",
       "                    --jp-widgets-label-color: white;\n",
       "                    --jp-ui-font-color1: white;\n",
       "                    --jp-layout-color2: #454545;\n",
       "                    background-color: #383838;\n",
       "                }\n",
       "                    \n",
       "                .geemap-dark .jupyter-button {\n",
       "                    --jp-layout-color3: #383838;\n",
       "                }\n",
       "                \n",
       "                .geemap-colab {\n",
       "                    background-color: var(--colab-primary-surface-color, white);\n",
       "                }\n",
       "                    \n",
       "                .geemap-colab .jupyter-button {\n",
       "                    --jp-layout-color3: var(--colab-primary-surface-color, white);\n",
       "                }\n",
       "            </style>\n",
       "            "
      ],
      "text/plain": [
       "<IPython.core.display.HTML object>"
      ]
     },
     "metadata": {},
     "output_type": "display_data"
    },
    {
     "data": {
      "application/vnd.jupyter.widget-view+json": {
       "model_id": "0e0a6f0c75824e54974b0bb2a4e6b7d3",
       "version_major": 2,
       "version_minor": 0
      },
      "text/plain": [
       "Map(center=[0, 0], controls=(WidgetControl(options=['position', 'transparent_bg'], widget=SearchDataGUI(childr…"
      ]
     },
     "execution_count": 11,
     "metadata": {},
     "output_type": "execute_result"
    }
   ],
   "source": [
    "# visualize the results using geemap\n",
    "import geemap\n",
    "Map = geemap.Map()\n",
    "Map.addLayer(image, {'bands': ['B4', 'B3', 'B2'], 'min': 0, 'max': 0.3}, 'S2')\n",
    "Map.addLayer(predictions, {'min': 0, 'max': 100}, 'CHL')\n",
    "Map.centerObject(image.geometry())\n",
    "# show the map\n",
    "Map"
   ]
  },
  {
   "cell_type": "code",
   "execution_count": null,
   "metadata": {},
   "outputs": [],
   "source": []
  }
 ],
 "metadata": {
  "kernelspec": {
   "display_name": ".venv",
   "language": "python",
   "name": "python3"
  },
  "language_info": {
   "codemirror_mode": {
    "name": "ipython",
    "version": 3
   },
   "file_extension": ".py",
   "mimetype": "text/x-python",
   "name": "python",
   "nbconvert_exporter": "python",
   "pygments_lexer": "ipython3",
   "version": "3.10.9"
  }
 },
 "nbformat": 4,
 "nbformat_minor": 2
}
